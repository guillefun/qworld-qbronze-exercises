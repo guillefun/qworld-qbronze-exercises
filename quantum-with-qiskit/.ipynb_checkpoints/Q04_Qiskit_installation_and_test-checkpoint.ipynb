{
 "cells": [
  {
   "cell_type": "markdown",
   "metadata": {},
   "source": [
    "<a href=\"https://qworld.net\" target=\"_blank\" align=\"left\"><img src=\"../qworld/images/header.jpg\"  align=\"left\"></a>\n",
    "$ \\newcommand{\\bra}[1]{\\langle #1|} $\n",
    "$ \\newcommand{\\ket}[1]{|#1\\rangle} $\n",
    "$ \\newcommand{\\braket}[2]{\\langle #1|#2\\rangle} $\n",
    "$ \\newcommand{\\dot}[2]{ #1 \\cdot #2} $\n",
    "$ \\newcommand{\\biginner}[2]{\\left\\langle #1,#2\\right\\rangle} $\n",
    "$ \\newcommand{\\mymatrix}[2]{\\left( \\begin{array}{#1} #2\\end{array} \\right)} $\n",
    "$ \\newcommand{\\myvector}[1]{\\mymatrix{c}{#1}} $\n",
    "$ \\newcommand{\\myrvector}[1]{\\mymatrix{r}{#1}} $\n",
    "$ \\newcommand{\\mypar}[1]{\\left( #1 \\right)} $\n",
    "$ \\newcommand{\\mybigpar}[1]{ \\Big( #1 \\Big)} $\n",
    "$ \\newcommand{\\sqrttwo}{\\frac{1}{\\sqrt{2}}} $\n",
    "$ \\newcommand{\\dsqrttwo}{\\dfrac{1}{\\sqrt{2}}} $\n",
    "$ \\newcommand{\\onehalf}{\\frac{1}{2}} $\n",
    "$ \\newcommand{\\donehalf}{\\dfrac{1}{2}} $\n",
    "$ \\newcommand{\\hadamard}{ \\mymatrix{rr}{ \\sqrttwo & \\sqrttwo \\\\ \\sqrttwo & -\\sqrttwo }} $\n",
    "$ \\newcommand{\\vzero}{\\myvector{1\\\\0}} $\n",
    "$ \\newcommand{\\vone}{\\myvector{0\\\\1}} $\n",
    "$ \\newcommand{\\stateplus}{\\myvector{ \\sqrttwo \\\\  \\sqrttwo } } $\n",
    "$ \\newcommand{\\stateminus}{ \\myrvector{ \\sqrttwo \\\\ -\\sqrttwo } } $\n",
    "$ \\newcommand{\\myarray}[2]{ \\begin{array}{#1}#2\\end{array}} $\n",
    "$ \\newcommand{\\X}{ \\mymatrix{cc}{0 & 1 \\\\ 1 & 0}  } $\n",
    "$ \\newcommand{\\I}{ \\mymatrix{rr}{1 & 0 \\\\ 0 & 1}  } $\n",
    "$ \\newcommand{\\Z}{ \\mymatrix{rr}{1 & 0 \\\\ 0 & -1}  } $\n",
    "$ \\newcommand{\\Htwo}{ \\mymatrix{rrrr}{ \\frac{1}{2} & \\frac{1}{2} & \\frac{1}{2} & \\frac{1}{2} \\\\ \\frac{1}{2} & -\\frac{1}{2} & \\frac{1}{2} & -\\frac{1}{2} \\\\ \\frac{1}{2} & \\frac{1}{2} & -\\frac{1}{2} & -\\frac{1}{2} \\\\ \\frac{1}{2} & -\\frac{1}{2} & -\\frac{1}{2} & \\frac{1}{2} } } $\n",
    "$ \\newcommand{\\CNOT}{ \\mymatrix{cccc}{1 & 0 & 0 & 0 \\\\ 0 & 1 & 0 & 0 \\\\ 0 & 0 & 0 & 1 \\\\ 0 & 0 & 1 & 0} } $\n",
    "$ \\newcommand{\\norm}[1]{ \\left\\lVert #1 \\right\\rVert } $\n",
    "$ \\newcommand{\\pstate}[1]{ \\lceil \\mspace{-1mu} #1 \\mspace{-1.5mu} \\rfloor } $\n",
    "$ \\newcommand{\\greenbit}[1] {\\mathbf{{\\color{green}#1}}} $\n",
    "$ \\newcommand{\\bluebit}[1] {\\mathbf{{\\color{blue}#1}}} $\n",
    "$ \\newcommand{\\redbit}[1] {\\mathbf{{\\color{red}#1}}} $\n",
    "$ \\newcommand{\\brownbit}[1] {\\mathbf{{\\color{brown}#1}}} $\n",
    "$ \\newcommand{\\blackbit}[1] {\\mathbf{{\\color{black}#1}}} $"
   ]
  },
  {
   "cell_type": "markdown",
   "metadata": {},
   "source": [
    "<font style=\"font-size:28px;\" align=\"left\"><b> Qiskit installation and test </b></font>\n",
    "<br>\n",
    "_prepared by Abuzer Yakaryilmaz_\n",
    "<br><br>"
   ]
  },
  {
   "cell_type": "markdown",
   "metadata": {},
   "source": [
    "- [Check your system](#check)\n",
    "- [Install qiskit](#install)\n",
    "- [Tips](#tips)\n",
    "- [Execute an example quantum program](#test)"
   ]
  },
  {
   "cell_type": "markdown",
   "metadata": {},
   "source": [
    "<hr id=\"check\">\n",
    "\n",
    "### Check your system\n",
    "\n",
    "Check your system, if Qiskit has already been installed:"
   ]
  },
  {
   "cell_type": "code",
   "execution_count": 1,
   "metadata": {},
   "outputs": [
    {
     "name": "stdout",
     "output_type": "stream",
     "text": [
      "The version of Qiskit is 0.30.1\n",
      "\n",
      "The version of each component:\n",
      "qiskit-terra -> 0.18.3\n",
      "qiskit-aer -> 0.9.0\n",
      "qiskit-ignis -> 0.6.0\n",
      "qiskit-ibmq-provider -> 0.16.0\n",
      "qiskit-aqua -> 0.9.5\n",
      "qiskit -> 0.30.1\n",
      "qiskit-nature -> None\n",
      "qiskit-finance -> None\n",
      "qiskit-optimization -> None\n",
      "qiskit-machine-learning -> None\n"
     ]
    },
    {
     "name": "stderr",
     "output_type": "stream",
     "text": [
      "C:\\ProgramData\\Anaconda3\\envs\\qworld\\lib\\site-packages\\qiskit\\aqua\\__init__.py:86: DeprecationWarning: The package qiskit.aqua is deprecated. It was moved/refactored to qiskit-terra For more information see <https://github.com/Qiskit/qiskit-aqua/blob/main/README.md#migration-guide>\n",
      "  warn_package('aqua', 'qiskit-terra')\n"
     ]
    }
   ],
   "source": [
    "import qiskit\n",
    "versions = qiskit.__qiskit_version__\n",
    "print(\"The version of Qiskit is\",versions['qiskit'])\n",
    "print()\n",
    "print(\"The version of each component:\")\n",
    "for key in versions:\n",
    "    print(key,\"->\",versions[key])"
   ]
  },
  {
   "cell_type": "markdown",
   "metadata": {},
   "source": [
    "**You should be able to see the version number of any library that is already installed in your system.**"
   ]
  },
  {
   "cell_type": "markdown",
   "metadata": {},
   "source": [
    "<hr id=\"install\">\n",
    "\n",
    "### Install qiskit\n",
    "\n",
    "(If you are an experienced user, visit this link: https://qiskit.org/documentation/install.html)\n",
    "\n",
    "You can install Qiskit by executing the following cell:"
   ]
  },
  {
   "cell_type": "code",
   "execution_count": 2,
   "metadata": {},
   "outputs": [
    {
     "name": "stdout",
     "output_type": "stream",
     "text": [
      "Requirement already satisfied: qiskit[visualization] in c:\\programdata\\anaconda3\\envs\\qworld\\lib\\site-packages (0.30.1)\n",
      "Requirement already satisfied: qiskit-terra==0.18.3 in c:\\programdata\\anaconda3\\envs\\qworld\\lib\\site-packages (from qiskit[visualization]) (0.18.3)\n",
      "Requirement already satisfied: qiskit-ibmq-provider==0.16.0 in c:\\programdata\\anaconda3\\envs\\qworld\\lib\\site-packages (from qiskit[visualization]) (0.16.0)\n",
      "Requirement already satisfied: qiskit-ignis==0.6.0 in c:\\programdata\\anaconda3\\envs\\qworld\\lib\\site-packages (from qiskit[visualization]) (0.6.0)\n",
      "Requirement already satisfied: qiskit-aer==0.9.0 in c:\\programdata\\anaconda3\\envs\\qworld\\lib\\site-packages (from qiskit[visualization]) (0.9.0)\n",
      "Requirement already satisfied: qiskit-aqua==0.9.5 in c:\\programdata\\anaconda3\\envs\\qworld\\lib\\site-packages (from qiskit[visualization]) (0.9.5)\n",
      "Collecting seaborn>=0.9.0\n",
      "  Downloading seaborn-0.11.2-py3-none-any.whl (292 kB)\n",
      "Requirement already satisfied: pygments>=2.4 in c:\\programdata\\anaconda3\\envs\\qworld\\lib\\site-packages (from qiskit[visualization]) (2.10.0)\n",
      "Collecting pillow>=4.2.1\n",
      "  Downloading Pillow-8.3.2-cp38-cp38-win_amd64.whl (3.2 MB)\n",
      "Collecting pydot\n",
      "  Downloading pydot-1.4.2-py2.py3-none-any.whl (21 kB)\n",
      "Requirement already satisfied: ipywidgets>=7.3.0 in c:\\programdata\\anaconda3\\envs\\qworld\\lib\\site-packages (from qiskit[visualization]) (7.6.5)\n",
      "Collecting matplotlib>=2.1\n",
      "  Downloading matplotlib-3.4.3-cp38-cp38-win_amd64.whl (7.1 MB)\n",
      "Requirement already satisfied: pylatexenc>=1.4 in c:\\programdata\\anaconda3\\envs\\qworld\\lib\\site-packages (from qiskit[visualization]) (2.10)\n",
      "Requirement already satisfied: pybind11>=2.6 in c:\\programdata\\anaconda3\\envs\\qworld\\lib\\site-packages (from qiskit-aer==0.9.0->qiskit[visualization]) (2.7.1)\n",
      "Requirement already satisfied: scipy>=1.0 in c:\\programdata\\anaconda3\\envs\\qworld\\lib\\site-packages (from qiskit-aer==0.9.0->qiskit[visualization]) (1.7.1)\n",
      "Requirement already satisfied: numpy>=1.16.3 in c:\\programdata\\anaconda3\\envs\\qworld\\lib\\site-packages (from qiskit-aer==0.9.0->qiskit[visualization]) (1.21.2)\n",
      "Requirement already satisfied: quandl in c:\\programdata\\anaconda3\\envs\\qworld\\lib\\site-packages (from qiskit-aqua==0.9.5->qiskit[visualization]) (3.6.1)\n",
      "Requirement already satisfied: scikit-learn>=0.20.0 in c:\\programdata\\anaconda3\\envs\\qworld\\lib\\site-packages (from qiskit-aqua==0.9.5->qiskit[visualization]) (1.0)\n",
      "Requirement already satisfied: retworkx>=0.8.0 in c:\\programdata\\anaconda3\\envs\\qworld\\lib\\site-packages (from qiskit-aqua==0.9.5->qiskit[visualization]) (0.10.2)\n",
      "Requirement already satisfied: psutil>=5 in c:\\programdata\\anaconda3\\envs\\qworld\\lib\\site-packages (from qiskit-aqua==0.9.5->qiskit[visualization]) (5.8.0)\n",
      "Requirement already satisfied: setuptools>=40.1.0 in c:\\programdata\\anaconda3\\envs\\qworld\\lib\\site-packages (from qiskit-aqua==0.9.5->qiskit[visualization]) (58.0.4)\n",
      "Requirement already satisfied: docplex>=2.21.207 in c:\\programdata\\anaconda3\\envs\\qworld\\lib\\site-packages (from qiskit-aqua==0.9.5->qiskit[visualization]) (2.22.213)\n",
      "Requirement already satisfied: dlx<=1.0.4 in c:\\programdata\\anaconda3\\envs\\qworld\\lib\\site-packages (from qiskit-aqua==0.9.5->qiskit[visualization]) (1.0.4)\n",
      "Requirement already satisfied: h5py<3.3.0 in c:\\programdata\\anaconda3\\envs\\qworld\\lib\\site-packages (from qiskit-aqua==0.9.5->qiskit[visualization]) (3.2.1)\n",
      "Requirement already satisfied: fastdtw<=0.3.4 in c:\\programdata\\anaconda3\\envs\\qworld\\lib\\site-packages (from qiskit-aqua==0.9.5->qiskit[visualization]) (0.3.4)\n",
      "Requirement already satisfied: pandas in c:\\programdata\\anaconda3\\envs\\qworld\\lib\\site-packages (from qiskit-aqua==0.9.5->qiskit[visualization]) (1.3.3)\n",
      "Requirement already satisfied: yfinance>=0.1.62 in c:\\programdata\\anaconda3\\envs\\qworld\\lib\\site-packages (from qiskit-aqua==0.9.5->qiskit[visualization]) (0.1.63)\n",
      "Requirement already satisfied: sympy>=1.3 in c:\\programdata\\anaconda3\\envs\\qworld\\lib\\site-packages (from qiskit-aqua==0.9.5->qiskit[visualization]) (1.8)\n",
      "Requirement already satisfied: python-dateutil>=2.8.0 in c:\\programdata\\anaconda3\\envs\\qworld\\lib\\site-packages (from qiskit-ibmq-provider==0.16.0->qiskit[visualization]) (2.8.2)\n",
      "Requirement already satisfied: urllib3>=1.21.1 in c:\\programdata\\anaconda3\\envs\\qworld\\lib\\site-packages (from qiskit-ibmq-provider==0.16.0->qiskit[visualization]) (1.26.7)\n",
      "Requirement already satisfied: requests-ntlm>=1.1.0 in c:\\programdata\\anaconda3\\envs\\qworld\\lib\\site-packages (from qiskit-ibmq-provider==0.16.0->qiskit[visualization]) (1.1.0)\n",
      "Requirement already satisfied: websocket-client>=1.0.1 in c:\\programdata\\anaconda3\\envs\\qworld\\lib\\site-packages (from qiskit-ibmq-provider==0.16.0->qiskit[visualization]) (1.2.1)\n",
      "Requirement already satisfied: requests>=2.19 in c:\\programdata\\anaconda3\\envs\\qworld\\lib\\site-packages (from qiskit-ibmq-provider==0.16.0->qiskit[visualization]) (2.26.0)\n",
      "Requirement already satisfied: jsonschema>=2.6 in c:\\programdata\\anaconda3\\envs\\qworld\\lib\\site-packages (from qiskit-terra==0.18.3->qiskit[visualization]) (4.0.1)\n",
      "Requirement already satisfied: fastjsonschema>=2.10 in c:\\programdata\\anaconda3\\envs\\qworld\\lib\\site-packages (from qiskit-terra==0.18.3->qiskit[visualization]) (2.15.1)\n",
      "Requirement already satisfied: dill>=0.3 in c:\\programdata\\anaconda3\\envs\\qworld\\lib\\site-packages (from qiskit-terra==0.18.3->qiskit[visualization]) (0.3.4)\n",
      "Requirement already satisfied: tweedledum<2.0,>=1.1 in c:\\programdata\\anaconda3\\envs\\qworld\\lib\\site-packages (from qiskit-terra==0.18.3->qiskit[visualization]) (1.1.1)\n",
      "Requirement already satisfied: python-constraint>=1.4 in c:\\programdata\\anaconda3\\envs\\qworld\\lib\\site-packages (from qiskit-terra==0.18.3->qiskit[visualization]) (1.4.0)\n",
      "Requirement already satisfied: ply>=3.10 in c:\\programdata\\anaconda3\\envs\\qworld\\lib\\site-packages (from qiskit-terra==0.18.3->qiskit[visualization]) (3.11)\n",
      "Requirement already satisfied: six in c:\\programdata\\anaconda3\\envs\\qworld\\lib\\site-packages (from docplex>=2.21.207->qiskit-aqua==0.9.5->qiskit[visualization]) (1.16.0)\n",
      "Requirement already satisfied: traitlets>=4.3.1 in c:\\programdata\\anaconda3\\envs\\qworld\\lib\\site-packages (from ipywidgets>=7.3.0->qiskit[visualization]) (5.1.0)\n",
      "Requirement already satisfied: ipython>=4.0.0 in c:\\programdata\\anaconda3\\envs\\qworld\\lib\\site-packages (from ipywidgets>=7.3.0->qiskit[visualization]) (7.28.0)\n",
      "Requirement already satisfied: jupyterlab-widgets>=1.0.0 in c:\\programdata\\anaconda3\\envs\\qworld\\lib\\site-packages (from ipywidgets>=7.3.0->qiskit[visualization]) (1.0.2)\n",
      "Requirement already satisfied: ipykernel>=4.5.1 in c:\\programdata\\anaconda3\\envs\\qworld\\lib\\site-packages (from ipywidgets>=7.3.0->qiskit[visualization]) (6.4.1)\n",
      "Requirement already satisfied: widgetsnbextension~=3.5.0 in c:\\programdata\\anaconda3\\envs\\qworld\\lib\\site-packages (from ipywidgets>=7.3.0->qiskit[visualization]) (3.5.1)\n",
      "Requirement already satisfied: nbformat>=4.2.0 in c:\\programdata\\anaconda3\\envs\\qworld\\lib\\site-packages (from ipywidgets>=7.3.0->qiskit[visualization]) (5.1.3)\n",
      "Requirement already satisfied: ipython-genutils~=0.2.0 in c:\\programdata\\anaconda3\\envs\\qworld\\lib\\site-packages (from ipywidgets>=7.3.0->qiskit[visualization]) (0.2.0)\n",
      "Requirement already satisfied: matplotlib-inline<0.2.0,>=0.1.0 in c:\\programdata\\anaconda3\\envs\\qworld\\lib\\site-packages (from ipykernel>=4.5.1->ipywidgets>=7.3.0->qiskit[visualization]) (0.1.3)\n",
      "Requirement already satisfied: debugpy<2.0,>=1.0.0 in c:\\programdata\\anaconda3\\envs\\qworld\\lib\\site-packages (from ipykernel>=4.5.1->ipywidgets>=7.3.0->qiskit[visualization]) (1.4.3)\n",
      "Requirement already satisfied: tornado<7.0,>=4.2 in c:\\programdata\\anaconda3\\envs\\qworld\\lib\\site-packages (from ipykernel>=4.5.1->ipywidgets>=7.3.0->qiskit[visualization]) (6.1)\n",
      "Requirement already satisfied: jupyter-client<8.0 in c:\\programdata\\anaconda3\\envs\\qworld\\lib\\site-packages (from ipykernel>=4.5.1->ipywidgets>=7.3.0->qiskit[visualization]) (7.0.5)\n",
      "Requirement already satisfied: colorama in c:\\programdata\\anaconda3\\envs\\qworld\\lib\\site-packages (from ipython>=4.0.0->ipywidgets>=7.3.0->qiskit[visualization]) (0.4.4)\n",
      "Requirement already satisfied: prompt-toolkit!=3.0.0,!=3.0.1,<3.1.0,>=2.0.0 in c:\\programdata\\anaconda3\\envs\\qworld\\lib\\site-packages (from ipython>=4.0.0->ipywidgets>=7.3.0->qiskit[visualization]) (3.0.20)\n"
     ]
    },
    {
     "name": "stdout",
     "output_type": "stream",
     "text": [
      "Requirement already satisfied: decorator in c:\\programdata\\anaconda3\\envs\\qworld\\lib\\site-packages (from ipython>=4.0.0->ipywidgets>=7.3.0->qiskit[visualization]) (5.1.0)\n",
      "Requirement already satisfied: jedi>=0.16 in c:\\programdata\\anaconda3\\envs\\qworld\\lib\\site-packages (from ipython>=4.0.0->ipywidgets>=7.3.0->qiskit[visualization]) (0.18.0)\n",
      "Requirement already satisfied: pickleshare in c:\\programdata\\anaconda3\\envs\\qworld\\lib\\site-packages (from ipython>=4.0.0->ipywidgets>=7.3.0->qiskit[visualization]) (0.7.5)\n",
      "Requirement already satisfied: backcall in c:\\programdata\\anaconda3\\envs\\qworld\\lib\\site-packages (from ipython>=4.0.0->ipywidgets>=7.3.0->qiskit[visualization]) (0.2.0)\n",
      "Requirement already satisfied: parso<0.9.0,>=0.8.0 in c:\\programdata\\anaconda3\\envs\\qworld\\lib\\site-packages (from jedi>=0.16->ipython>=4.0.0->ipywidgets>=7.3.0->qiskit[visualization]) (0.8.2)\n",
      "Requirement already satisfied: pyrsistent!=0.17.0,!=0.17.1,!=0.17.2,>=0.14.0 in c:\\programdata\\anaconda3\\envs\\qworld\\lib\\site-packages (from jsonschema>=2.6->qiskit-terra==0.18.3->qiskit[visualization]) (0.18.0)\n",
      "Requirement already satisfied: attrs>=17.4.0 in c:\\programdata\\anaconda3\\envs\\qworld\\lib\\site-packages (from jsonschema>=2.6->qiskit-terra==0.18.3->qiskit[visualization]) (21.2.0)\n",
      "Requirement already satisfied: nest-asyncio>=1.5 in c:\\programdata\\anaconda3\\envs\\qworld\\lib\\site-packages (from jupyter-client<8.0->ipykernel>=4.5.1->ipywidgets>=7.3.0->qiskit[visualization]) (1.5.1)\n",
      "Requirement already satisfied: entrypoints in c:\\programdata\\anaconda3\\envs\\qworld\\lib\\site-packages (from jupyter-client<8.0->ipykernel>=4.5.1->ipywidgets>=7.3.0->qiskit[visualization]) (0.3)\n",
      "Requirement already satisfied: pyzmq>=13 in c:\\programdata\\anaconda3\\envs\\qworld\\lib\\site-packages (from jupyter-client<8.0->ipykernel>=4.5.1->ipywidgets>=7.3.0->qiskit[visualization]) (22.3.0)\n",
      "Requirement already satisfied: jupyter-core>=4.6.0 in c:\\programdata\\anaconda3\\envs\\qworld\\lib\\site-packages (from jupyter-client<8.0->ipykernel>=4.5.1->ipywidgets>=7.3.0->qiskit[visualization]) (4.8.1)\n",
      "Requirement already satisfied: pywin32>=1.0 in c:\\programdata\\anaconda3\\envs\\qworld\\lib\\site-packages (from jupyter-core>=4.6.0->jupyter-client<8.0->ipykernel>=4.5.1->ipywidgets>=7.3.0->qiskit[visualization]) (301)\n",
      "Requirement already satisfied: pyparsing>=2.2.1 in c:\\programdata\\anaconda3\\envs\\qworld\\lib\\site-packages (from matplotlib>=2.1->qiskit[visualization]) (2.4.7)\n",
      "Collecting kiwisolver>=1.0.1\n",
      "  Downloading kiwisolver-1.3.2-cp38-cp38-win_amd64.whl (52 kB)\n",
      "Collecting cycler>=0.10\n",
      "  Using cached cycler-0.10.0-py2.py3-none-any.whl (6.5 kB)\n",
      "Requirement already satisfied: wcwidth in c:\\programdata\\anaconda3\\envs\\qworld\\lib\\site-packages (from prompt-toolkit!=3.0.0,!=3.0.1,<3.1.0,>=2.0.0->ipython>=4.0.0->ipywidgets>=7.3.0->qiskit[visualization]) (0.2.5)\n",
      "Requirement already satisfied: certifi>=2017.4.17 in c:\\programdata\\anaconda3\\envs\\qworld\\lib\\site-packages (from requests>=2.19->qiskit-ibmq-provider==0.16.0->qiskit[visualization]) (2021.5.30)\n",
      "Requirement already satisfied: charset-normalizer~=2.0.0 in c:\\programdata\\anaconda3\\envs\\qworld\\lib\\site-packages (from requests>=2.19->qiskit-ibmq-provider==0.16.0->qiskit[visualization]) (2.0.6)\n",
      "Requirement already satisfied: idna<4,>=2.5 in c:\\programdata\\anaconda3\\envs\\qworld\\lib\\site-packages (from requests>=2.19->qiskit-ibmq-provider==0.16.0->qiskit[visualization]) (3.2)\n",
      "Requirement already satisfied: ntlm-auth>=1.0.2 in c:\\programdata\\anaconda3\\envs\\qworld\\lib\\site-packages (from requests-ntlm>=1.1.0->qiskit-ibmq-provider==0.16.0->qiskit[visualization]) (1.5.0)\n",
      "Requirement already satisfied: cryptography>=1.3 in c:\\programdata\\anaconda3\\envs\\qworld\\lib\\site-packages (from requests-ntlm>=1.1.0->qiskit-ibmq-provider==0.16.0->qiskit[visualization]) (35.0.0)\n",
      "Requirement already satisfied: cffi>=1.12 in c:\\programdata\\anaconda3\\envs\\qworld\\lib\\site-packages (from cryptography>=1.3->requests-ntlm>=1.1.0->qiskit-ibmq-provider==0.16.0->qiskit[visualization]) (1.14.6)\n",
      "Requirement already satisfied: pycparser in c:\\programdata\\anaconda3\\envs\\qworld\\lib\\site-packages (from cffi>=1.12->cryptography>=1.3->requests-ntlm>=1.1.0->qiskit-ibmq-provider==0.16.0->qiskit[visualization]) (2.20)\n",
      "Requirement already satisfied: threadpoolctl>=2.0.0 in c:\\programdata\\anaconda3\\envs\\qworld\\lib\\site-packages (from scikit-learn>=0.20.0->qiskit-aqua==0.9.5->qiskit[visualization]) (3.0.0)\n",
      "Requirement already satisfied: joblib>=0.11 in c:\\programdata\\anaconda3\\envs\\qworld\\lib\\site-packages (from scikit-learn>=0.20.0->qiskit-aqua==0.9.5->qiskit[visualization]) (1.0.1)\n",
      "Requirement already satisfied: pytz>=2017.3 in c:\\programdata\\anaconda3\\envs\\qworld\\lib\\site-packages (from pandas->qiskit-aqua==0.9.5->qiskit[visualization]) (2021.1)\n",
      "Requirement already satisfied: mpmath>=0.19 in c:\\programdata\\anaconda3\\envs\\qworld\\lib\\site-packages (from sympy>=1.3->qiskit-aqua==0.9.5->qiskit[visualization]) (1.2.1)\n",
      "Requirement already satisfied: notebook>=4.4.1 in c:\\programdata\\anaconda3\\envs\\qworld\\lib\\site-packages (from widgetsnbextension~=3.5.0->ipywidgets>=7.3.0->qiskit[visualization]) (6.4.4)\n",
      "Requirement already satisfied: Send2Trash>=1.5.0 in c:\\programdata\\anaconda3\\envs\\qworld\\lib\\site-packages (from notebook>=4.4.1->widgetsnbextension~=3.5.0->ipywidgets>=7.3.0->qiskit[visualization]) (1.8.0)\n",
      "Requirement already satisfied: argon2-cffi in c:\\programdata\\anaconda3\\envs\\qworld\\lib\\site-packages (from notebook>=4.4.1->widgetsnbextension~=3.5.0->ipywidgets>=7.3.0->qiskit[visualization]) (21.1.0)\n",
      "Requirement already satisfied: nbconvert in c:\\programdata\\anaconda3\\envs\\qworld\\lib\\site-packages (from notebook>=4.4.1->widgetsnbextension~=3.5.0->ipywidgets>=7.3.0->qiskit[visualization]) (6.2.0)\n",
      "Requirement already satisfied: jinja2 in c:\\programdata\\anaconda3\\envs\\qworld\\lib\\site-packages (from notebook>=4.4.1->widgetsnbextension~=3.5.0->ipywidgets>=7.3.0->qiskit[visualization]) (3.0.1)\n",
      "Requirement already satisfied: prometheus-client in c:\\programdata\\anaconda3\\envs\\qworld\\lib\\site-packages (from notebook>=4.4.1->widgetsnbextension~=3.5.0->ipywidgets>=7.3.0->qiskit[visualization]) (0.11.0)\n",
      "Requirement already satisfied: terminado>=0.8.3 in c:\\programdata\\anaconda3\\envs\\qworld\\lib\\site-packages (from notebook>=4.4.1->widgetsnbextension~=3.5.0->ipywidgets>=7.3.0->qiskit[visualization]) (0.12.1)\n",
      "Requirement already satisfied: pywinpty>=1.1.0 in c:\\programdata\\anaconda3\\envs\\qworld\\lib\\site-packages (from terminado>=0.8.3->notebook>=4.4.1->widgetsnbextension~=3.5.0->ipywidgets>=7.3.0->qiskit[visualization]) (1.1.4)\n",
      "Requirement already satisfied: multitasking>=0.0.7 in c:\\programdata\\anaconda3\\envs\\qworld\\lib\\site-packages (from yfinance>=0.1.62->qiskit-aqua==0.9.5->qiskit[visualization]) (0.0.9)\n",
      "Requirement already satisfied: lxml>=4.5.1 in c:\\programdata\\anaconda3\\envs\\qworld\\lib\\site-packages (from yfinance>=0.1.62->qiskit-aqua==0.9.5->qiskit[visualization]) (4.6.3)\n",
      "Requirement already satisfied: MarkupSafe>=2.0 in c:\\programdata\\anaconda3\\envs\\qworld\\lib\\site-packages (from jinja2->notebook>=4.4.1->widgetsnbextension~=3.5.0->ipywidgets>=7.3.0->qiskit[visualization]) (2.0.1)\n",
      "Requirement already satisfied: jupyterlab-pygments in c:\\programdata\\anaconda3\\envs\\qworld\\lib\\site-packages (from nbconvert->notebook>=4.4.1->widgetsnbextension~=3.5.0->ipywidgets>=7.3.0->qiskit[visualization]) (0.1.2)\n",
      "Requirement already satisfied: bleach in c:\\programdata\\anaconda3\\envs\\qworld\\lib\\site-packages (from nbconvert->notebook>=4.4.1->widgetsnbextension~=3.5.0->ipywidgets>=7.3.0->qiskit[visualization]) (4.1.0)\n",
      "Requirement already satisfied: mistune<2,>=0.8.1 in c:\\programdata\\anaconda3\\envs\\qworld\\lib\\site-packages (from nbconvert->notebook>=4.4.1->widgetsnbextension~=3.5.0->ipywidgets>=7.3.0->qiskit[visualization]) (0.8.4)\n",
      "Requirement already satisfied: nbclient<0.6.0,>=0.5.0 in c:\\programdata\\anaconda3\\envs\\qworld\\lib\\site-packages (from nbconvert->notebook>=4.4.1->widgetsnbextension~=3.5.0->ipywidgets>=7.3.0->qiskit[visualization]) (0.5.4)\n",
      "Requirement already satisfied: pandocfilters>=1.4.1 in c:\\programdata\\anaconda3\\envs\\qworld\\lib\\site-packages (from nbconvert->notebook>=4.4.1->widgetsnbextension~=3.5.0->ipywidgets>=7.3.0->qiskit[visualization]) (1.5.0)\n",
      "Requirement already satisfied: testpath in c:\\programdata\\anaconda3\\envs\\qworld\\lib\\site-packages (from nbconvert->notebook>=4.4.1->widgetsnbextension~=3.5.0->ipywidgets>=7.3.0->qiskit[visualization]) (0.5.0)\n",
      "Requirement already satisfied: defusedxml in c:\\programdata\\anaconda3\\envs\\qworld\\lib\\site-packages (from nbconvert->notebook>=4.4.1->widgetsnbextension~=3.5.0->ipywidgets>=7.3.0->qiskit[visualization]) (0.7.1)\n",
      "Requirement already satisfied: webencodings in c:\\programdata\\anaconda3\\envs\\qworld\\lib\\site-packages (from bleach->nbconvert->notebook>=4.4.1->widgetsnbextension~=3.5.0->ipywidgets>=7.3.0->qiskit[visualization]) (0.5.1)\n",
      "Requirement already satisfied: packaging in c:\\programdata\\anaconda3\\envs\\qworld\\lib\\site-packages (from bleach->nbconvert->notebook>=4.4.1->widgetsnbextension~=3.5.0->ipywidgets>=7.3.0->qiskit[visualization]) (21.0)\n",
      "Requirement already satisfied: inflection>=0.3.1 in c:\\programdata\\anaconda3\\envs\\qworld\\lib\\site-packages (from quandl->qiskit-aqua==0.9.5->qiskit[visualization]) (0.5.1)\n",
      "Requirement already satisfied: more-itertools in c:\\programdata\\anaconda3\\envs\\qworld\\lib\\site-packages (from quandl->qiskit-aqua==0.9.5->qiskit[visualization]) (8.10.0)\n",
      "Installing collected packages: pillow, kiwisolver, cycler, matplotlib, seaborn, pydot\n",
      "Successfully installed cycler-0.10.0 kiwisolver-1.3.2 matplotlib-3.4.3 pillow-8.3.2 pydot-1.4.2 seaborn-0.11.2\n"
     ]
    }
   ],
   "source": [
    "!pip install \"qiskit[visualization]\" --user"
   ]
  },
  {
   "cell_type": "markdown",
   "metadata": {},
   "source": [
    "__*Restart the kernel*__ (check \"Kernel\" menu) to apply the changes to the current notebook."
   ]
  },
  {
   "cell_type": "markdown",
   "metadata": {},
   "source": [
    "<hr id=\"tips\">\n",
    "\n",
    "### Tips\n",
    "\n",
    "_Any terminal/shell command can be executed in the notebook cells by putting an exclamation mark (!) at the beginning of the command._\n",
    "\n",
    "_$\\rightarrow$ To update Qiskit to the latest version, execute the following command in a code cell_\n",
    "\n",
    "    !pip install -U qiskit --user\n",
    "    \n",
    "_$\\rightarrow$ To uninstall Qiskit, execute the following command in a code cell_\n",
    "\n",
    "    !pip uninstall qiskit"
   ]
  },
  {
   "cell_type": "code",
   "execution_count": null,
   "metadata": {},
   "outputs": [],
   "source": [
    "#!pip install -U qiskit --user\n",
    "#!pip uninstall qiskit"
   ]
  },
  {
   "cell_type": "markdown",
   "metadata": {},
   "source": [
    "<hr id=\"test\">\n",
    "\n",
    "### Execute an example quantum program\n"
   ]
  },
  {
   "cell_type": "markdown",
   "metadata": {},
   "source": [
    "1) Create a quantum circuit"
   ]
  },
  {
   "cell_type": "code",
   "execution_count": 2,
   "metadata": {},
   "outputs": [
    {
     "name": "stdout",
     "output_type": "stream",
     "text": [
      "The execution of the cell was completed, and the circuit was created :)\n"
     ]
    }
   ],
   "source": [
    "# import the objects from qiskit\n",
    "from qiskit import QuantumRegister, ClassicalRegister, QuantumCircuit, execute, Aer\n",
    "from random import randrange\n",
    "\n",
    "# create a quantum circuit and its register objects\n",
    "qreg = QuantumRegister(2) # quantum register with two quantum bits\n",
    "creg = ClassicalRegister(2) # classical register with two classical bit\n",
    "circuit = QuantumCircuit(qreg,creg) # quantum circuit composed by a quantum register and a classical register\n",
    "\n",
    "# apply a Hadamard gate to the first qubit\n",
    "circuit.h(qreg[0])\n",
    "\n",
    "# set the second qubit to state |1>\n",
    "circuit.x(qreg[1])\n",
    "\n",
    "# apply CNOT(first_qubit,second_qubit)\n",
    "circuit.cx(qreg[0],qreg[1])\n",
    "\n",
    "# measure the both qubits\n",
    "circuit.measure(qreg,creg)\n",
    "\n",
    "print(\"The execution of the cell was completed, and the circuit was created :)\")"
   ]
  },
  {
   "cell_type": "markdown",
   "metadata": {},
   "source": [
    "2) Draw the circuit\n",
    "\n",
    "_Run the cell once more if the figure is not shown_"
   ]
  },
  {
   "cell_type": "code",
   "execution_count": 3,
   "metadata": {},
   "outputs": [
    {
     "data": {
      "image/png": "[encoded data removed]",
      "text/plain": [
       "<Figure size 340.233x204.68 with 1 Axes>"
      ]
     },
     "execution_count": 3,
     "metadata": {},
     "output_type": "execute_result"
    }
   ],
   "source": [
    "# draw circuit \n",
    "circuit.draw(output='mpl')\n",
    "\n",
    "# the output will be a \"matplotlib.Figure\" object"
   ]
  },
  {
   "cell_type": "markdown",
   "metadata": {},
   "source": [
    "3) Execute the circuit 1024 times in the local simulator and print the observed the outcomes"
   ]
  },
  {
   "cell_type": "code",
   "execution_count": 4,
   "metadata": {},
   "outputs": [
    {
     "name": "stdout",
     "output_type": "stream",
     "text": [
      "{'01': 533, '10': 491}\n"
     ]
    }
   ],
   "source": [
    "## execute the circuit 1024 times\n",
    "job = execute(circuit,Aer.get_backend('qasm_simulator'),shots=1024)\n",
    "# get the result\n",
    "counts = job.result().get_counts(circuit)\n",
    "print(counts)"
   ]
  },
  {
   "cell_type": "code",
   "execution_count": null,
   "metadata": {},
   "outputs": [],
   "source": []
  }
 ],
 "metadata": {
  "kernelspec": {
   "display_name": "Python 3 (ipykernel)",
   "language": "python",
   "name": "python3"
  },
  "language_info": {
   "codemirror_mode": {
    "name": "ipython",
    "version": 3
   },
   "file_extension": ".py",
   "mimetype": "text/x-python",
   "name": "python",
   "nbconvert_exporter": "python",
   "pygments_lexer": "ipython3",
   "version": "3.8.11"
  }
 },
 "nbformat": 4,
 "nbformat_minor": 2
}
